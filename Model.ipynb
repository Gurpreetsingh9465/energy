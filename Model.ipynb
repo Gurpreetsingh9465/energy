{
 "cells": [
  {
   "cell_type": "code",
   "execution_count": 1,
   "metadata": {},
   "outputs": [],
   "source": [
    "%matplotlib inline\n",
    "import pandas as pd\n",
    "import matplotlib.pyplot as plt\n",
    "from sklearn import preprocessing\n",
    "from sklearn.cluster import KMeans\n",
    "import numpy as np\n",
    "from sklearn.utils import shuffle"
   ]
  },
  {
   "cell_type": "code",
   "execution_count": 2,
   "metadata": {},
   "outputs": [
    {
     "name": "stdout",
     "output_type": "stream",
     "text": [
      "[102920, 192914, 331538, 345698, 434944]\n"
     ]
    },
    {
     "data": {
      "text/html": [
       "<div>\n",
       "<style scoped>\n",
       "    .dataframe tbody tr th:only-of-type {\n",
       "        vertical-align: middle;\n",
       "    }\n",
       "\n",
       "    .dataframe tbody tr th {\n",
       "        vertical-align: top;\n",
       "    }\n",
       "\n",
       "    .dataframe thead th {\n",
       "        text-align: right;\n",
       "    }\n",
       "</style>\n",
       "<table border=\"1\" class=\"dataframe\">\n",
       "  <thead>\n",
       "    <tr style=\"text-align: right;\">\n",
       "      <th></th>\n",
       "      <th>timestamp</th>\n",
       "      <th>W</th>\n",
       "      <th>VAR</th>\n",
       "    </tr>\n",
       "  </thead>\n",
       "  <tbody>\n",
       "    <tr>\n",
       "      <th>308699</th>\n",
       "      <td>1369696905</td>\n",
       "      <td>11.772500038</td>\n",
       "      <td>6.00003E-18</td>\n",
       "    </tr>\n",
       "    <tr>\n",
       "      <th>167698</th>\n",
       "      <td>1369544653</td>\n",
       "      <td>11.449500084</td>\n",
       "      <td>6.00003E-18</td>\n",
       "    </tr>\n",
       "    <tr>\n",
       "      <th>1084</th>\n",
       "      <td>1369354719</td>\n",
       "      <td>0</td>\n",
       "      <td>6.00003E-18</td>\n",
       "    </tr>\n",
       "    <tr>\n",
       "      <th>466162</th>\n",
       "      <td>1369874120</td>\n",
       "      <td>14.382399559</td>\n",
       "      <td>6.00003E-18</td>\n",
       "    </tr>\n",
       "    <tr>\n",
       "      <th>82888</th>\n",
       "      <td>1369444818</td>\n",
       "      <td>0</td>\n",
       "      <td>6.00003E-18</td>\n",
       "    </tr>\n",
       "  </tbody>\n",
       "</table>\n",
       "</div>"
      ],
      "text/plain": [
       "         timestamp             W          VAR\n",
       "308699  1369696905  11.772500038  6.00003E-18\n",
       "167698  1369544653  11.449500084  6.00003E-18\n",
       "1084    1369354719             0  6.00003E-18\n",
       "466162  1369874120  14.382399559  6.00003E-18\n",
       "82888   1369444818             0  6.00003E-18"
      ]
     },
     "execution_count": 2,
     "metadata": {},
     "output_type": "execute_result"
    }
   ],
   "source": [
    "data = pd.read_csv('energy.csv')\n",
    "l = []\n",
    "for i in range(0,len(data)):\n",
    "    if data['W'].values[i] == '\\\\N' or data['VAR'].values[i] == '\\\\N':\n",
    "        l.append(i)\n",
    "print(l)\n",
    "data = data.drop(l)\n",
    "data = shuffle(data)\n",
    "data.head()"
   ]
  },
  {
   "cell_type": "code",
   "execution_count": 3,
   "metadata": {},
   "outputs": [
    {
     "name": "stdout",
     "output_type": "stream",
     "text": [
      "499994\n"
     ]
    }
   ],
   "source": [
    "print(len(data))"
   ]
  },
  {
   "cell_type": "code",
   "execution_count": 4,
   "metadata": {},
   "outputs": [],
   "source": [
    "stdW = np.std(data['W'].values.astype(float))\n",
    "mW = np.mean(data['W'].values.astype(float))\n",
    "W,VAR = [],[]\n",
    "for i in data['W'].values.astype(float):\n",
    "    W.append((i-mW)/stdW)\n",
    "stdVAR = np.std(data['VAR'].values.astype(float))\n",
    "mVAR = np.mean(data['VAR'].values.astype(float))\n",
    "for i in data['VAR'].values.astype(float):\n",
    "    VAR.append((i-mVAR)/stdVAR)\n",
    "X = []\n",
    "for i in range(len(data)):\n",
    "    X.append([W[i], VAR[i]])"
   ]
  },
  {
   "cell_type": "code",
   "execution_count": 5,
   "metadata": {},
   "outputs": [
    {
     "data": {
      "text/plain": [
       "499994"
      ]
     },
     "execution_count": 5,
     "metadata": {},
     "output_type": "execute_result"
    }
   ],
   "source": [
    "len(X)"
   ]
  },
  {
   "cell_type": "code",
   "execution_count": 6,
   "metadata": {},
   "outputs": [
    {
     "data": {
      "image/png": "[encoded data removed]",
      "text/plain": [
       "<Figure size 432x288 with 1 Axes>"
      ]
     },
     "metadata": {},
     "output_type": "display_data"
    }
   ],
   "source": [
    "no = 5000\n",
    "plt.scatter(W[:no],VAR[:no])\n",
    "plt.xlabel('W')\n",
    "plt.ylabel('Y')\n",
    "plt.show()"
   ]
  },
  {
   "cell_type": "code",
   "execution_count": 9,
   "metadata": {},
   "outputs": [
    {
     "name": "stdout",
     "output_type": "stream",
     "text": [
      "k = 2 centroids are = [[ 1.85693055  1.34111705]\n",
      " [-0.5348459  -0.38627775]]\n",
      "k = 3 centroids are = [[-0.53418163 -0.38367813]\n",
      " [ 1.92624941  2.58274478]\n",
      " [ 1.80888311  0.16981284]]\n",
      "k = 4 centroids are = [[-0.53485521 -0.38628381]\n",
      " [ 1.85444392  1.51308157]\n",
      " [ 1.79542409 -0.16508963]\n",
      " [ 1.95518516  3.37967764]]\n",
      "k = 5 centroids are = [[-0.53485504 -0.3862777 ]\n",
      " [ 1.93542676  2.85262972]\n",
      " [ 1.79455595 -0.19808906]\n",
      " [ 1.97925082  4.43018077]\n",
      " [ 1.8486961   1.38550182]]\n",
      "k = 6 centroids are = [[-0.53485265 -0.38627432]\n",
      " [ 1.86107525  1.66179111]\n",
      " [ 1.79168327 -0.30522296]\n",
      " [ 1.98386974  4.59491101]\n",
      " [ 1.82279525  0.75408441]\n",
      " [ 1.94261706  2.98307823]]\n",
      "k = 7 centroids are = [[-0.53485521 -0.38628381]\n",
      " [ 1.925413    2.6843651 ]\n",
      " [ 1.81936491  0.7051891 ]\n",
      " [ 1.85827617  1.58699668]\n",
      " [ 1.79154617 -0.31252967]\n",
      " [ 1.96071117  3.60094967]\n",
      " [ 2.01744513  5.1539333 ]]\n",
      "k = 8 centroids are = [[-0.53549891 -0.38853063]\n",
      " [ 1.92562353  2.68553656]\n",
      " [ 1.79157574 -0.3113617 ]\n",
      " [ 1.8942416   1.59048268]\n",
      " [ 2.01744513  5.1539333 ]\n",
      " [ 1.96070736  3.60142893]\n",
      " [-0.05244032  1.39256448]\n",
      " [ 1.81960634  0.71120867]]\n",
      "k = 9 centroids are = [[-0.53549891 -0.38853063]\n",
      " [ 1.81206063  0.59951291]\n",
      " [ 1.901405    2.04784312]\n",
      " [ 1.79146773 -0.32628616]\n",
      " [ 1.95854576  3.7123759 ]\n",
      " [ 1.94227541  2.87314623]\n",
      " [ 2.01917542  5.18889522]\n",
      " [-0.05244032  1.39256448]\n",
      " [ 1.8834343   1.41148298]]\n",
      "k = 10 centroids are = [[ 1.79380634  0.04841793]\n",
      " [-0.53549891 -0.38853063]\n",
      " [ 1.94842208  2.95229085]\n",
      " [ 1.89384863  1.52539734]\n",
      " [ 1.79259597 -0.43677681]\n",
      " [ 2.01871843  5.19984932]\n",
      " [ 1.89920609  2.23731678]\n",
      " [ 1.95820967  3.75033359]\n",
      " [ 1.82289291  0.8115634 ]\n",
      " [-0.05244032  1.39256448]]\n",
      "k = 11 centroids are = [[ 1.79243732 -0.45945258]\n",
      " [-0.53549891 -0.38853063]\n",
      " [ 1.95623837  3.05385667]\n",
      " [ 1.87423663  1.30069207]\n",
      " [ 2.01905841  5.21120307]\n",
      " [ 1.90442871  1.76007821]\n",
      " [-0.05244032  1.39256448]\n",
      " [ 1.8127948   0.67796943]\n",
      " [ 1.90503438  2.45427879]\n",
      " [ 1.79298734 -0.02117145]\n",
      " [ 1.95702671  3.80338604]]\n",
      "k = 12 centroids are = [[-0.53549891 -0.38853063]\n",
      " [ 1.86805228  1.24939226]\n",
      " [ 1.79232595 -0.46413199]\n",
      " [ 1.96016452  3.58127549]\n",
      " [ 1.81205793  0.64738853]\n",
      " [ 2.02115699  5.50764849]\n",
      " [ 1.90118188  2.36544838]\n",
      " [ 1.97878755  4.36997032]\n",
      " [-0.05244032  1.39256448]\n",
      " [ 1.79282733 -0.03466778]\n",
      " [ 1.94898583  2.95391708]\n",
      " [ 1.90336299  1.70492716]]\n",
      "k = 13 centroids are = [[-0.53549891 -0.38853063]\n",
      " [ 1.95341438  2.9991559 ]\n",
      " [ 1.8112918   0.4936609 ]\n",
      " [ 1.88935688  1.45973786]\n",
      " [ 1.79004342 -0.49279511]\n",
      " [ 2.02177532  5.51593392]\n",
      " [-0.05244032  1.39256448]\n",
      " [ 1.9047335   2.46691319]\n",
      " [ 1.97980081  4.39960153]\n",
      " [ 1.79319201 -0.10869677]\n",
      " [ 1.83462106  1.00168123]\n",
      " [ 1.90734721  1.86663581]\n",
      " [ 1.95953527  3.61148198]]\n",
      "k = 14 centroids are = [[-0.53695901 -0.38649849]\n",
      " [ 1.840689    1.0500933 ]\n",
      " [ 1.79131585 -0.48121117]\n",
      " [ 1.95469353  3.01741256]\n",
      " [ 2.02194227  5.52007652]\n",
      " [ 1.81148437  0.53235228]\n",
      " [ 1.90697281  1.90445629]\n",
      " [ 1.98096779  4.42323525]\n",
      " [ 1.8923306   1.49282593]\n",
      " [-0.05244032  1.39256448]\n",
      " [ 1.79210815 -0.08455393]\n",
      " [ 1.95938998  3.63239131]\n",
      " [-0.27272081 -0.75426067]\n",
      " [ 1.9062707   2.49406676]]\n"
     ]
    }
   ],
   "source": [
    "distances = []\n",
    "K = range(2,15)\n",
    "for k in K:\n",
    "    km = KMeans(n_clusters=k)\n",
    "    km = km.fit(X)\n",
    "    distances.append(km.inertia_)\n",
    "    print(\"k = {} centroids are = {}\".format(k,km.cluster_centers_))"
   ]
  },
  {
   "cell_type": "code",
   "execution_count": 10,
   "metadata": {},
   "outputs": [
    {
     "data": {
      "image/png": "[encoded data removed]",
      "text/plain": [
       "<Figure size 432x288 with 1 Axes>"
      ]
     },
     "metadata": {},
     "output_type": "display_data"
    }
   ],
   "source": [
    "plt.plot(K, distances, 'bx-')\n",
    "plt.xlabel('k')\n",
    "plt.ylabel('distances')\n",
    "plt.show()"
   ]
  },
  {
   "cell_type": "code",
   "execution_count": 27,
   "metadata": {},
   "outputs": [
    {
     "name": "stdout",
     "output_type": "stream",
     "text": [
      "2 => 244389.38298540324\n",
      "3 => 82344.93318618504\n",
      "4 => 35748.131914166945\n",
      "5 => 23177.10014620215\n",
      "6 => 16902.786765494653\n",
      "7 => 13017.936995243099\n",
      "8 => 9553.372082904134\n",
      "9 => 7710.694352559057\n",
      "10 => 6292.443881091633\n",
      "11 => 5296.247367057571\n",
      "12 => 4626.432063422111\n",
      "13 => 4048.640716910395\n",
      "14 => 3614.681371493565\n"
     ]
    }
   ],
   "source": [
    "for i in range(2,15):\n",
    "    print(\"{} => {}\".format(i,distances[i-2]))"
   ]
  },
  {
   "cell_type": "code",
   "execution_count": null,
   "metadata": {},
   "outputs": [],
   "source": []
  },
  {
   "cell_type": "code",
   "execution_count": null,
   "metadata": {},
   "outputs": [],
   "source": []
  }
 ],
 "metadata": {
  "kernelspec": {
   "display_name": "Python 3",
   "language": "python",
   "name": "python3"
  },
  "language_info": {
   "codemirror_mode": {
    "name": "ipython",
    "version": 3
   },
   "file_extension": ".py",
   "mimetype": "text/x-python",
   "name": "python",
   "nbconvert_exporter": "python",
   "pygments_lexer": "ipython3",
   "version": "3.6.5"
  }
 },
 "nbformat": 4,
 "nbformat_minor": 2
}
