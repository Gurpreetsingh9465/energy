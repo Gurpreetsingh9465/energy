{
 "cells": [
  {
   "cell_type": "code",
   "execution_count": 3,
   "metadata": {},
   "outputs": [],
   "source": [
    "%matplotlib inline\n",
    "import pandas as pd\n",
    "import matplotlib.pyplot as plt\n",
    "from sklearn import preprocessing\n",
    "from sklearn.cluster import KMeans\n",
    "import numpy as np\n",
    "from sklearn.utils import shuffle"
   ]
  },
  {
   "cell_type": "code",
   "execution_count": 4,
   "metadata": {},
   "outputs": [
    {
     "name": "stdout",
     "output_type": "stream",
     "text": [
      "[102920, 192914, 331538, 345698, 434944]\n"
     ]
    },
    {
     "data": {
      "text/html": [
       "<div>\n",
       "<style scoped>\n",
       "    .dataframe tbody tr th:only-of-type {\n",
       "        vertical-align: middle;\n",
       "    }\n",
       "\n",
       "    .dataframe tbody tr th {\n",
       "        vertical-align: top;\n",
       "    }\n",
       "\n",
       "    .dataframe thead th {\n",
       "        text-align: right;\n",
       "    }\n",
       "</style>\n",
       "<table border=\"1\" class=\"dataframe\">\n",
       "  <thead>\n",
       "    <tr style=\"text-align: right;\">\n",
       "      <th></th>\n",
       "      <th>timestamp</th>\n",
       "      <th>W</th>\n",
       "      <th>VAR</th>\n",
       "    </tr>\n",
       "  </thead>\n",
       "  <tbody>\n",
       "    <tr>\n",
       "      <th>0</th>\n",
       "      <td>1369353600</td>\n",
       "      <td>0</td>\n",
       "      <td>6.00003E-18</td>\n",
       "    </tr>\n",
       "    <tr>\n",
       "      <th>1</th>\n",
       "      <td>1369353601</td>\n",
       "      <td>0</td>\n",
       "      <td>6.00003E-18</td>\n",
       "    </tr>\n",
       "    <tr>\n",
       "      <th>2</th>\n",
       "      <td>1369353602</td>\n",
       "      <td>0</td>\n",
       "      <td>6.00003E-18</td>\n",
       "    </tr>\n",
       "    <tr>\n",
       "      <th>3</th>\n",
       "      <td>1369353603</td>\n",
       "      <td>0</td>\n",
       "      <td>6.00003E-18</td>\n",
       "    </tr>\n",
       "    <tr>\n",
       "      <th>4</th>\n",
       "      <td>1369353604</td>\n",
       "      <td>0</td>\n",
       "      <td>6.00003E-18</td>\n",
       "    </tr>\n",
       "  </tbody>\n",
       "</table>\n",
       "</div>"
      ],
      "text/plain": [
       "    timestamp  W          VAR\n",
       "0  1369353600  0  6.00003E-18\n",
       "1  1369353601  0  6.00003E-18\n",
       "2  1369353602  0  6.00003E-18\n",
       "3  1369353603  0  6.00003E-18\n",
       "4  1369353604  0  6.00003E-18"
      ]
     },
     "execution_count": 4,
     "metadata": {},
     "output_type": "execute_result"
    }
   ],
   "source": [
    "data = pd.read_csv('energy.csv')\n",
    "l = []\n",
    "for i in range(0,len(data)):\n",
    "    if data['W'].values[i] == '\\\\N' or data['VAR'].values[i] == '\\\\N':\n",
    "        l.append(i)\n",
    "print(l)\n",
    "data = data.drop(l)\n",
    "data.head()"
   ]
  },
  {
   "cell_type": "code",
   "execution_count": 5,
   "metadata": {},
   "outputs": [
    {
     "name": "stdout",
     "output_type": "stream",
     "text": [
      "499994\n"
     ]
    }
   ],
   "source": [
    "print(len(data))"
   ]
  },
  {
   "cell_type": "code",
   "execution_count": 6,
   "metadata": {},
   "outputs": [],
   "source": [
    "stdW = np.std(data['W'].values.astype(float))\n",
    "mW = np.mean(data['W'].values.astype(float))\n",
    "W,VAR = [],[]\n",
    "for i in data['W'].values.astype(float):\n",
    "    W.append((i-mW)/stdW)\n",
    "stdVAR = np.std(data['VAR'].values.astype(float))\n",
    "mVAR = np.mean(data['VAR'].values.astype(float))\n",
    "for i in data['VAR'].values.astype(float):\n",
    "    VAR.append((i-mVAR)/stdVAR)\n",
    "X = []\n",
    "for i in range(len(data)):\n",
    "    X.append([W[i], VAR[i]])\n"
   ]
  },
  {
   "cell_type": "code",
   "execution_count": 7,
   "metadata": {},
   "outputs": [],
   "source": [
    "time = data['timestamp'].values.astype(int)"
   ]
  },
  {
   "cell_type": "code",
   "execution_count": 8,
   "metadata": {},
   "outputs": [
    {
     "data": {
      "image/png": "[encoded data removed]",
      "text/plain": [
       "<Figure size 432x288 with 1 Axes>"
      ]
     },
     "metadata": {},
     "output_type": "display_data"
    },
    {
     "data": {
      "image/png": "[encoded data removed]",
      "text/plain": [
       "<Figure size 432x288 with 1 Axes>"
      ]
     },
     "metadata": {},
     "output_type": "display_data"
    }
   ],
   "source": [
    "plt.plot(time,W)\n",
    "plt.xlabel('Time')\n",
    "plt.ylabel('active Power')\n",
    "plt.title('Active power')\n",
    "plt.show()\n",
    "plt.plot(time,VAR)\n",
    "plt.xlabel('Time')\n",
    "plt.ylabel('reactive Power')\n",
    "plt.title('Reactive power')\n",
    "plt.show()"
   ]
  },
  {
   "cell_type": "code",
   "execution_count": 9,
   "metadata": {},
   "outputs": [
    {
     "data": {
      "image/png": "[encoded data removed]",
      "text/plain": [
       "<Figure size 432x288 with 1 Axes>"
      ]
     },
     "metadata": {},
     "output_type": "display_data"
    }
   ],
   "source": [
    "plt.plot(time,data['W'].values.astype(float))\n",
    "plt.plot(time,data['VAR'].values.astype(float))\n",
    "plt.xlabel('Time')\n",
    "plt.ylabel('Power')\n",
    "plt.show()"
   ]
  },
  {
   "cell_type": "code",
   "execution_count": 10,
   "metadata": {},
   "outputs": [],
   "source": [
    "W = data['W'].values.astype(float)\n",
    "VAR = data['VAR'].values.astype(float)\n",
    "events = []\n",
    "WC = [W[0]]\n",
    "VARC = [VAR[0]]\n",
    "for i in range(1,len(data)):\n",
    "    if abs(WC[-1] - W[i]) < 20:\n",
    "        WC.append(W[i])\n",
    "        VARC.append(W[i])\n",
    "    else:\n",
    "        events.append([np.mean(WC),np.mean(VARC)])\n",
    "        VARC = [VAR[i]]\n",
    "        WC = [W[i]]"
   ]
  },
  {
   "cell_type": "code",
   "execution_count": 12,
   "metadata": {},
   "outputs": [
    {
     "name": "stdout",
     "output_type": "stream",
     "text": [
      "k = 2 centroids are = [[ 1.85693055  1.34111705]\n",
      " [-0.5348459  -0.38627775]]\n",
      "k = 3 centroids are = [[-0.53418163 -0.38367813]\n",
      " [ 1.92626543  2.58357635]\n",
      " [ 1.80894376  0.17058749]]\n",
      "k = 4 centroids are = [[-0.53485521 -0.38628381]\n",
      " [ 1.85475834  1.51826992]\n",
      " [ 1.79546344 -0.16160133]\n",
      " [ 1.95531466  3.38257064]]\n",
      "k = 5 centroids are = [[-0.53485504 -0.3862777 ]\n",
      " [ 1.93550881  2.85382629]\n",
      " [ 1.79455378 -0.19802947]\n",
      " [ 1.84873004  1.38576125]\n",
      " [ 1.97911692  4.43310335]]\n",
      "k = 6 centroids are = [[ 1.79170848 -0.30369226]\n",
      " [-0.53485265 -0.38627432]\n",
      " [ 1.94287714  2.99047804]\n",
      " [ 1.82346447  0.76267682]\n",
      " [ 1.98489534  4.60961039]\n",
      " [ 1.86112264  1.66802064]]\n",
      "k = 7 centroids are = [[-0.53485521 -0.38628381]\n",
      " [ 1.96071822  3.59911618]\n",
      " [ 1.8199456   0.71444926]\n",
      " [ 1.79155586 -0.31027964]\n",
      " [ 1.85835302  1.59011878]\n",
      " [ 2.01736255  5.15317022]\n",
      " [ 1.92531806  2.68366705]]\n",
      "k = 8 centroids are = [[-0.53549891 -0.38853063]\n",
      " [ 1.92561887  2.68501904]\n",
      " [ 1.79154411 -0.31201417]\n",
      " [ 1.89414233  1.58929757]\n",
      " [ 1.96070787  3.60116763]\n",
      " [-0.05244032  1.39256448]\n",
      " [ 2.01744513  5.1539333 ]\n",
      " [ 1.81946709  0.70839847]]\n",
      "k = 9 centroids are = [[-0.53549891 -0.38853063]\n",
      " [ 1.90199082  2.02888828]\n",
      " [ 1.79145256 -0.32681025]\n",
      " [ 1.95865215  3.70932443]\n",
      " [ 1.81178583  0.59395629]\n",
      " [ 1.94157787  2.86578519]\n",
      " [-0.05244032  1.39256448]\n",
      " [ 1.88236517  1.4017948 ]\n",
      " [ 2.01921582  5.18863861]]\n",
      "k = 10 centroids are = [[-0.53549891 -0.38853063]\n",
      " [ 1.89280116  1.51180773]\n",
      " [ 1.95855513  3.73880398]\n",
      " [ 1.79267362 -0.44167672]\n",
      " [ 1.94685692  2.93016381]\n",
      " [ 2.0185998   5.19680636]\n",
      " [ 1.79363355  0.03442335]\n",
      " [-0.05244032  1.39256448]\n",
      " [ 1.89872739  2.19835841]\n",
      " [ 1.82182469  0.79822638]]\n",
      "k = 11 centroids are = [[ 1.90417921  1.74982686]\n",
      " [-0.53549891 -0.38853063]\n",
      " [ 1.7929116  -0.02351715]\n",
      " [ 1.9571145   3.80220473]\n",
      " [ 1.90472786  2.44690076]\n",
      " [ 2.01905841  5.21120307]\n",
      " [ 1.81262555  0.6719178 ]\n",
      " [ 1.79243066 -0.46028823]\n",
      " [ 1.87299646  1.28997061]\n",
      " [ 1.95595878  3.05055092]\n",
      " [-0.05244032  1.39256448]]\n",
      "k = 12 centroids are = [[-0.53549891 -0.38853063]\n",
      " [ 1.87391394  1.2969438 ]\n",
      " [ 1.79297899 -0.02225035]\n",
      " [ 1.95967988  3.60388196]\n",
      " [ 1.90261339  2.41060412]\n",
      " [ 1.812753    0.6774136 ]\n",
      " [ 1.79243309 -0.46012113]\n",
      " [ 2.02181141  5.51625216]\n",
      " [-0.05244032  1.39256448]\n",
      " [ 1.97960964  4.39879201]\n",
      " [ 1.95128374  2.97835962]\n",
      " [ 1.90449233  1.74913729]]\n",
      "k = 13 centroids are = [[-0.53549891 -0.38853063]\n",
      " [ 1.90735566  1.8547614 ]\n",
      " [ 1.7934432  -0.11313599]\n",
      " [ 1.97980081  4.39960153]\n",
      " [ 1.953037    2.99512403]\n",
      " [ 2.02177532  5.51593392]\n",
      " [ 1.83290625  0.99048001]\n",
      " [-0.05244032  1.39256448]\n",
      " [ 1.78972525 -0.49530307]\n",
      " [ 1.95951635  3.61034718]\n",
      " [ 1.8115237   0.48574801]\n",
      " [ 1.90422204  2.45709553]\n",
      " [ 1.88876519  1.45106551]]\n",
      "k = 14 centroids are = [[ 1.90557451  1.93377282]\n",
      " [-0.53549891 -0.38853063]\n",
      " [ 1.79257904  0.09030595]\n",
      " [ 2.02194227  5.52007652]\n",
      " [ 1.95528939  3.02202489]\n",
      " [ 1.78666945 -0.59991149]\n",
      " [ 1.84817198  1.10826583]\n",
      " [-0.05244032  1.39256448]\n",
      " [ 1.98094541  4.42354154]\n",
      " [ 1.81196907  0.62309138]\n",
      " [ 1.79585713 -0.29251509]\n",
      " [ 1.89511245  1.52306648]\n",
      " [ 1.95926264  3.63366819]\n",
      " [ 1.90734827  2.50773803]]\n"
     ]
    }
   ],
   "source": [
    "distances = []\n",
    "K = range(2,15)\n",
    "for k in K:\n",
    "    km = KMeans(n_clusters=k)\n",
    "    km = km.fit(X)\n",
    "    distances.append(km.inertia_)\n",
    "    print(\"k = {} centroids are = {}\".format(k,km.cluster_centers_))"
   ]
  },
  {
   "cell_type": "code",
   "execution_count": 13,
   "metadata": {},
   "outputs": [
    {
     "data": {
      "image/png": "[encoded data removed]",
      "text/plain": [
       "<Figure size 432x288 with 1 Axes>"
      ]
     },
     "metadata": {},
     "output_type": "display_data"
    }
   ],
   "source": [
    "plt.plot(K, distances, 'bx-')\n",
    "plt.xlabel('k')\n",
    "plt.ylabel('distances')\n",
    "plt.show()"
   ]
  },
  {
   "cell_type": "code",
   "execution_count": 14,
   "metadata": {},
   "outputs": [
    {
     "name": "stdout",
     "output_type": "stream",
     "text": [
      "2 => 244389.38298540318\n",
      "3 => 82344.38075353898\n",
      "4 => 35748.582361303415\n",
      "5 => 23176.822130921035\n",
      "6 => 16903.643196418132\n",
      "7 => 13018.288063263786\n",
      "8 => 9553.292866720636\n",
      "9 => 7708.763755496318\n",
      "10 => 6291.862645644447\n",
      "11 => 5296.239275068991\n",
      "12 => 4626.660282537247\n",
      "13 => 4049.6849673614192\n",
      "14 => 3671.0993249202293\n"
     ]
    }
   ],
   "source": [
    "for i in range(2,15):\n",
    "    print(\"{} => {}\".format(i,distances[i-2]))"
   ]
  },
  {
   "cell_type": "code",
   "execution_count": 15,
   "metadata": {},
   "outputs": [],
   "source": []
  },
  {
   "cell_type": "code",
   "execution_count": null,
   "metadata": {},
   "outputs": [],
   "source": []
  }
 ],
 "metadata": {
  "kernelspec": {
   "display_name": "Python 3",
   "language": "python",
   "name": "python3"
  },
  "language_info": {
   "codemirror_mode": {
    "name": "ipython",
    "version": 3
   },
   "file_extension": ".py",
   "mimetype": "text/x-python",
   "name": "python",
   "nbconvert_exporter": "python",
   "pygments_lexer": "ipython3",
   "version": "3.6.5"
  }
 },
 "nbformat": 4,
 "nbformat_minor": 2
}
