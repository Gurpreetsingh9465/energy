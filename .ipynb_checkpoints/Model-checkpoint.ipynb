{
 "cells": [
  {
   "cell_type": "code",
   "execution_count": 1,
   "metadata": {},
   "outputs": [],
   "source": [
    "%matplotlib inline\n",
    "import pandas as pd\n",
    "import matplotlib.pyplot as plt\n",
    "from sklearn import preprocessing\n",
    "from sklearn.cluster import KMeans\n",
    "import pickle\n",
    "import numpy as np"
   ]
  },
  {
   "cell_type": "code",
   "execution_count": 2,
   "metadata": {},
   "outputs": [
    {
     "name": "stdout",
     "output_type": "stream",
     "text": [
      "[102920, 192914, 331538, 345698, 434944]\n"
     ]
    },
    {
     "data": {
      "text/html": [
       "<div>\n",
       "<style scoped>\n",
       "    .dataframe tbody tr th:only-of-type {\n",
       "        vertical-align: middle;\n",
       "    }\n",
       "\n",
       "    .dataframe tbody tr th {\n",
       "        vertical-align: top;\n",
       "    }\n",
       "\n",
       "    .dataframe thead th {\n",
       "        text-align: right;\n",
       "    }\n",
       "</style>\n",
       "<table border=\"1\" class=\"dataframe\">\n",
       "  <thead>\n",
       "    <tr style=\"text-align: right;\">\n",
       "      <th></th>\n",
       "      <th>timestamp</th>\n",
       "      <th>W</th>\n",
       "      <th>VAR</th>\n",
       "    </tr>\n",
       "  </thead>\n",
       "  <tbody>\n",
       "    <tr>\n",
       "      <th>0</th>\n",
       "      <td>1369353600</td>\n",
       "      <td>0</td>\n",
       "      <td>6.00003E-18</td>\n",
       "    </tr>\n",
       "    <tr>\n",
       "      <th>1</th>\n",
       "      <td>1369353601</td>\n",
       "      <td>0</td>\n",
       "      <td>6.00003E-18</td>\n",
       "    </tr>\n",
       "    <tr>\n",
       "      <th>2</th>\n",
       "      <td>1369353602</td>\n",
       "      <td>0</td>\n",
       "      <td>6.00003E-18</td>\n",
       "    </tr>\n",
       "    <tr>\n",
       "      <th>3</th>\n",
       "      <td>1369353603</td>\n",
       "      <td>0</td>\n",
       "      <td>6.00003E-18</td>\n",
       "    </tr>\n",
       "    <tr>\n",
       "      <th>4</th>\n",
       "      <td>1369353604</td>\n",
       "      <td>0</td>\n",
       "      <td>6.00003E-18</td>\n",
       "    </tr>\n",
       "  </tbody>\n",
       "</table>\n",
       "</div>"
      ],
      "text/plain": [
       "    timestamp  W          VAR\n",
       "0  1369353600  0  6.00003E-18\n",
       "1  1369353601  0  6.00003E-18\n",
       "2  1369353602  0  6.00003E-18\n",
       "3  1369353603  0  6.00003E-18\n",
       "4  1369353604  0  6.00003E-18"
      ]
     },
     "execution_count": 2,
     "metadata": {},
     "output_type": "execute_result"
    }
   ],
   "source": [
    "data = pd.read_csv('energy.csv')\n",
    "l = []\n",
    "for i in range(0,len(data)):\n",
    "    if data['W'].values[i] == '\\\\N' or data['VAR'].values[i] == '\\\\N':\n",
    "        l.append(i)\n",
    "print(l)\n",
    "data = data.drop(l)\n",
    "data.head()"
   ]
  },
  {
   "cell_type": "code",
   "execution_count": 3,
   "metadata": {},
   "outputs": [
    {
     "name": "stdout",
     "output_type": "stream",
     "text": [
      "499994\n"
     ]
    }
   ],
   "source": [
    "print(len(data))"
   ]
  },
  {
   "cell_type": "code",
   "execution_count": 4,
   "metadata": {},
   "outputs": [
    {
     "data": {
      "image/png": "[encoded data removed]",
      "text/plain": [
       "<Figure size 432x288 with 1 Axes>"
      ]
     },
     "metadata": {},
     "output_type": "display_data"
    }
   ],
   "source": [
    "plt.plot(data['timestamp'],data['W'].values.astype(float))\n",
    "plt.plot(data['timestamp'],data['VAR'].values.astype(float))\n",
    "plt.xlabel('Time')\n",
    "plt.ylabel('Power')\n",
    "plt.show()"
   ]
  },
  {
   "cell_type": "code",
   "execution_count": 5,
   "metadata": {},
   "outputs": [],
   "source": [
    "df = pd.DataFrame(columns=['DW', 'DVAR','Cluster No'])\n",
    "df['DW'] = data['W'].values[:-1].astype(float) - data['W'].values[1:].astype(float)\n",
    "df['DVAR'] = data['VAR'].values[:-1].astype(float) - data['VAR'].values[1:].astype(float)"
   ]
  },
  {
   "cell_type": "code",
   "execution_count": 6,
   "metadata": {},
   "outputs": [
    {
     "data": {
      "text/html": [
       "<div>\n",
       "<style scoped>\n",
       "    .dataframe tbody tr th:only-of-type {\n",
       "        vertical-align: middle;\n",
       "    }\n",
       "\n",
       "    .dataframe tbody tr th {\n",
       "        vertical-align: top;\n",
       "    }\n",
       "\n",
       "    .dataframe thead th {\n",
       "        text-align: right;\n",
       "    }\n",
       "</style>\n",
       "<table border=\"1\" class=\"dataframe\">\n",
       "  <thead>\n",
       "    <tr style=\"text-align: right;\">\n",
       "      <th></th>\n",
       "      <th>DW</th>\n",
       "      <th>DVAR</th>\n",
       "      <th>Cluster No</th>\n",
       "    </tr>\n",
       "  </thead>\n",
       "  <tbody>\n",
       "    <tr>\n",
       "      <th>46825</th>\n",
       "      <td>126.437012</td>\n",
       "      <td>73.473999</td>\n",
       "      <td>NaN</td>\n",
       "    </tr>\n",
       "    <tr>\n",
       "      <th>46826</th>\n",
       "      <td>75.580994</td>\n",
       "      <td>16.292999</td>\n",
       "      <td>NaN</td>\n",
       "    </tr>\n",
       "    <tr>\n",
       "      <th>47011</th>\n",
       "      <td>30.070068</td>\n",
       "      <td>6.471008</td>\n",
       "      <td>NaN</td>\n",
       "    </tr>\n",
       "    <tr>\n",
       "      <th>47013</th>\n",
       "      <td>27.630005</td>\n",
       "      <td>-17.173004</td>\n",
       "      <td>NaN</td>\n",
       "    </tr>\n",
       "    <tr>\n",
       "      <th>49899</th>\n",
       "      <td>22.850098</td>\n",
       "      <td>18.209801</td>\n",
       "      <td>NaN</td>\n",
       "    </tr>\n",
       "  </tbody>\n",
       "</table>\n",
       "</div>"
      ],
      "text/plain": [
       "               DW       DVAR Cluster No\n",
       "46825  126.437012  73.473999        NaN\n",
       "46826   75.580994  16.292999        NaN\n",
       "47011   30.070068   6.471008        NaN\n",
       "47013   27.630005 -17.173004        NaN\n",
       "49899   22.850098  18.209801        NaN"
      ]
     },
     "execution_count": 6,
     "metadata": {},
     "output_type": "execute_result"
    }
   ],
   "source": [
    "dW = df['DW']\n",
    "remove = []\n",
    "for i in range(len(dW)):\n",
    "    if dW[i]<20:\n",
    "        remove.append(i)\n",
    "df = df.drop(remove)\n",
    "df.head()"
   ]
  },
  {
   "cell_type": "code",
   "execution_count": 7,
   "metadata": {},
   "outputs": [
    {
     "data": {
      "image/png": "[encoded data removed]",
      "text/plain": [
       "<Figure size 432x288 with 1 Axes>"
      ]
     },
     "metadata": {},
     "output_type": "display_data"
    }
   ],
   "source": [
    "plt.scatter(df['DW'].values,df['DVAR'].values)\n",
    "plt.xlabel('DW')\n",
    "plt.ylabel('DVAR')\n",
    "plt.title('DW vs DVAR')\n",
    "plt.show()"
   ]
  },
  {
   "cell_type": "code",
   "execution_count": 8,
   "metadata": {},
   "outputs": [
    {
     "name": "stdout",
     "output_type": "stream",
     "text": [
      "[[126.43701172000004, 73.47399902999999], [75.58099364999998, 16.292999259999988], [30.070068300000003, 6.471008299999994], [27.63000480000005, -17.173004149999997], [22.85009769999988, 18.20980071999999], [21.25, 3.699798584000007], [22.910034199999927, 9.6720199585], [23.419921899999963, 0.0]]\n"
     ]
    }
   ],
   "source": [
    "dW = df['DW'].values\n",
    "dVar = df['DVAR'].values\n",
    "X = []\n",
    "for i in range(len(dW)):\n",
    "    X.append([dW[i],dVar[i]])\n",
    "print(X[:8])"
   ]
  },
  {
   "cell_type": "code",
   "execution_count": 9,
   "metadata": {},
   "outputs": [
    {
     "name": "stdout",
     "output_type": "stream",
     "text": [
      "k = 2 centroids are = [[  80.68107158   37.70752146]\n",
      " [1806.98492264   97.10903883]]\n",
      "k = 3 centroids are = [[  52.74055449   16.27764791]\n",
      " [1806.98492264   97.10903883]\n",
      " [ 462.53480512  330.58245998]]\n",
      "k = 4 centroids are = [[  52.74055449   16.27764791]\n",
      " [2034.49410439  103.10554352]\n",
      " [ 462.53480512  330.58245998]\n",
      " [1427.80295307   87.11486435]]\n",
      "k = 5 centroids are = [[  42.8312024    17.33021629]\n",
      " [2034.49410439  103.10554352]\n",
      " [ 408.25200198  509.29337673]\n",
      " [1427.80295307   87.11486435]\n",
      " [ 359.73907578   40.32906427]]\n",
      "k = 6 centroids are = [[  33.26169958   15.92168674]\n",
      " [2034.49410439  103.10554352]\n",
      " [ 530.38830903  107.19381404]\n",
      " [ 183.00539673   18.65813821]\n",
      " [1427.80295307   87.11486435]\n",
      " [ 408.25200198  509.29337673]]\n",
      "k = 7 centroids are = [[  33.26169958   15.92168674]\n",
      " [2016.81883859  -10.78457451]\n",
      " [ 530.38830903  107.19381404]\n",
      " [1427.80295307   87.11486435]\n",
      " [ 408.25200198  509.29337673]\n",
      " [2105.19516758  558.66601562]\n",
      " [ 183.00539673   18.65813821]]\n",
      "k = 8 centroids are = [[ 4.61130005e+02  5.38016999e+02]\n",
      " [ 3.28594473e+01  1.24581665e+01]\n",
      " [ 2.01681884e+03 -1.07845745e+01]\n",
      " [ 1.42780295e+03  8.71148643e+01]\n",
      " [ 5.30388309e+02  1.07193814e+02]\n",
      " [ 1.08179962e+02  2.73642478e+02]\n",
      " [ 1.86724425e+02 -4.08520572e-01]\n",
      " [ 2.10519517e+03  5.58666016e+02]]\n",
      "k = 9 centroids are = [[  30.79599227    3.01922014]\n",
      " [2016.81883859  -10.78457451]\n",
      " [ 530.38830903  107.19381404]\n",
      " [1427.80295307   87.11486435]\n",
      " [ 161.9799805   349.52845478]\n",
      " [2105.19516758  558.66601562]\n",
      " [ 191.03066895   -5.6858434 ]\n",
      " [ 461.1300049   538.01699853]\n",
      " [  51.9413865    88.37326162]]\n",
      "k = 10 centroids are = [[ 4.11426642e+02  1.55724769e+02]\n",
      " [ 2.01681884e+03 -1.07845745e+01]\n",
      " [ 3.09165413e+01  1.52771649e+00]\n",
      " [ 1.42780295e+03  8.71148643e+01]\n",
      " [ 1.91030669e+02 -5.68584340e+00]\n",
      " [ 4.61130005e+02  5.38016999e+02]\n",
      " [ 2.10519517e+03  5.58666016e+02]\n",
      " [ 4.75096452e+01  7.45002331e+01]\n",
      " [ 1.28686646e+02  3.08735970e+02]\n",
      " [ 6.49349976e+02  5.86628590e+01]]\n",
      "k = 11 centroids are = [[ 1.86724425e+02 -4.08520572e-01]\n",
      " [ 1.93974575e+03  1.19210053e+00]\n",
      " [ 3.22592357e+01  9.38405368e+00]\n",
      " [ 2.45834961e+02  4.86960432e+02]\n",
      " [ 1.42780295e+03  8.71148643e+01]\n",
      " [ 6.49349976e+02  5.86628590e+01]\n",
      " [ 6.59632975e+01  1.75184171e+02]\n",
      " [ 2.10519517e+03  5.58666016e+02]\n",
      " [ 2.24803811e+03 -4.67145996e+01]\n",
      " [ 4.11426642e+02  1.55724769e+02]\n",
      " [ 5.16530029e+02  5.24182007e+02]]\n",
      "k = 12 centroids are = [[ 2.53762451e+01  3.44995080e+00]\n",
      " [ 1.93974575e+03  1.19210053e+00]\n",
      " [ 4.61130005e+02  5.38016999e+02]\n",
      " [ 4.11426642e+02  1.55724769e+02]\n",
      " [ 1.18071742e+02 -1.22296380e+01]\n",
      " [ 1.42780295e+03  8.71148643e+01]\n",
      " [ 2.10519517e+03  5.58666016e+02]\n",
      " [ 1.28686646e+02  3.08735970e+02]\n",
      " [ 6.49349976e+02  5.86628590e+01]\n",
      " [ 2.45972920e+02 -4.24743557e+00]\n",
      " [ 2.24803811e+03 -4.67145996e+01]\n",
      " [ 4.75096452e+01  7.45002331e+01]]\n",
      "k = 13 centroids are = [[ 1.28063906e+02 -1.49465851e+01]\n",
      " [ 1.93974575e+03  1.19210053e+00]\n",
      " [ 4.75096452e+01  7.45002331e+01]\n",
      " [ 5.16530029e+02  5.24182007e+02]\n",
      " [ 1.42780295e+03  8.71148643e+01]\n",
      " [ 6.49349976e+02  5.86628590e+01]\n",
      " [ 2.10519517e+03  5.58666016e+02]\n",
      " [ 1.28686646e+02  3.08735970e+02]\n",
      " [ 2.71616469e+01  3.30876462e+00]\n",
      " [ 2.45972920e+02 -4.24743557e+00]\n",
      " [ 2.24803811e+03 -4.67145996e+01]\n",
      " [ 4.11426642e+02  1.55724769e+02]\n",
      " [ 2.94929932e+02  5.79521974e+02]]\n",
      "k = 14 centroids are = [[ 2.53762451e+01  3.44995080e+00]\n",
      " [ 2.24803811e+03 -4.67145996e+01]\n",
      " [ 6.49349976e+02  5.86628590e+01]\n",
      " [ 1.48389050e+03  1.16485497e+02]\n",
      " [ 5.16530029e+02  5.24182007e+02]\n",
      " [ 2.10519517e+03  5.58666016e+02]\n",
      " [ 1.15014893e+02 -5.98077560e+00]\n",
      " [ 1.28686646e+02  3.08735970e+02]\n",
      " [ 1.93974575e+03  1.19210053e+00]\n",
      " [ 4.11426642e+02  1.55724769e+02]\n",
      " [ 2.94929932e+02  5.79521974e+02]\n",
      " [ 4.31247915e+01  7.45572461e+01]\n",
      " [ 2.35883445e+02 -7.42748751e+00]\n",
      " [ 1.31562785e+03  2.83736000e+01]]\n"
     ]
    }
   ],
   "source": [
    "distances = []\n",
    "K = range(2,15)\n",
    "for k in K:\n",
    "    km = KMeans(n_clusters=k)\n",
    "    km = km.fit(X)\n",
    "    distances.append(km.inertia_)\n",
    "    print(\"k = {} centroids are = {}\".format(k,km.cluster_centers_))"
   ]
  },
  {
   "cell_type": "code",
   "execution_count": 10,
   "metadata": {},
   "outputs": [
    {
     "data": {
      "image/png": "[encoded data removed]",
      "text/plain": [
       "<Figure size 432x288 with 1 Axes>"
      ]
     },
     "metadata": {},
     "output_type": "display_data"
    }
   ],
   "source": [
    "plt.plot(K, distances, 'bx-')\n",
    "plt.xlabel('k')\n",
    "plt.ylabel('distances')\n",
    "plt.show()"
   ]
  },
  {
   "cell_type": "code",
   "execution_count": 11,
   "metadata": {},
   "outputs": [
    {
     "name": "stdout",
     "output_type": "stream",
     "text": [
      "2 => 4589819.432099244\n",
      "3 => 2353018.2282810174\n",
      "4 => 1662399.7503450632\n",
      "5 => 1255720.7475446756\n",
      "6 => 957746.686508481\n",
      "7 => 692079.206408876\n",
      "8 => 501847.53402708157\n",
      "9 => 426911.4610054521\n",
      "10 => 355168.4700271222\n",
      "11 => 302015.43787642755\n",
      "12 => 236792.53509383142\n",
      "13 => 197330.89496225788\n",
      "14 => 174895.05459881635\n"
     ]
    }
   ],
   "source": [
    "for i in range(2,15):\n",
    "    print(\"{} => {}\".format(i,distances[i-2]))"
   ]
  },
  {
   "cell_type": "code",
   "execution_count": 12,
   "metadata": {},
   "outputs": [],
   "source": [
    "k = 4\n",
    "km = KMeans(n_clusters=k)\n",
    "km = km.fit(X)"
   ]
  },
  {
   "cell_type": "code",
   "execution_count": 13,
   "metadata": {},
   "outputs": [
    {
     "data": {
      "image/png": "[encoded data removed]",
      "text/plain": [
       "<Figure size 432x288 with 1 Axes>"
      ]
     },
     "metadata": {},
     "output_type": "display_data"
    }
   ],
   "source": [
    "plt.scatter(df['DW'].values,df['DVAR'].values,color='blue',label='Data Points')\n",
    "plt.scatter(km.cluster_centers_[:,0],km.cluster_centers_[:,1],color='red',label='Centroids')\n",
    "plt.xlabel('DW')\n",
    "plt.ylabel('DVAR')\n",
    "plt.legend()\n",
    "plt.title('DW vs DVAR')\n",
    "plt.show()"
   ]
  },
  {
   "cell_type": "code",
   "execution_count": 14,
   "metadata": {},
   "outputs": [],
   "source": [
    "df['Cluster No'] = km.labels_"
   ]
  },
  {
   "cell_type": "code",
   "execution_count": 15,
   "metadata": {},
   "outputs": [
    {
     "data": {
      "text/html": [
       "<div>\n",
       "<style scoped>\n",
       "    .dataframe tbody tr th:only-of-type {\n",
       "        vertical-align: middle;\n",
       "    }\n",
       "\n",
       "    .dataframe tbody tr th {\n",
       "        vertical-align: top;\n",
       "    }\n",
       "\n",
       "    .dataframe thead th {\n",
       "        text-align: right;\n",
       "    }\n",
       "</style>\n",
       "<table border=\"1\" class=\"dataframe\">\n",
       "  <thead>\n",
       "    <tr style=\"text-align: right;\">\n",
       "      <th></th>\n",
       "      <th>DW</th>\n",
       "      <th>DVAR</th>\n",
       "      <th>Cluster No</th>\n",
       "    </tr>\n",
       "  </thead>\n",
       "  <tbody>\n",
       "    <tr>\n",
       "      <th>46825</th>\n",
       "      <td>126.437012</td>\n",
       "      <td>73.473999</td>\n",
       "      <td>0</td>\n",
       "    </tr>\n",
       "    <tr>\n",
       "      <th>46826</th>\n",
       "      <td>75.580994</td>\n",
       "      <td>16.292999</td>\n",
       "      <td>0</td>\n",
       "    </tr>\n",
       "    <tr>\n",
       "      <th>47011</th>\n",
       "      <td>30.070068</td>\n",
       "      <td>6.471008</td>\n",
       "      <td>0</td>\n",
       "    </tr>\n",
       "    <tr>\n",
       "      <th>47013</th>\n",
       "      <td>27.630005</td>\n",
       "      <td>-17.173004</td>\n",
       "      <td>0</td>\n",
       "    </tr>\n",
       "    <tr>\n",
       "      <th>49899</th>\n",
       "      <td>22.850098</td>\n",
       "      <td>18.209801</td>\n",
       "      <td>0</td>\n",
       "    </tr>\n",
       "  </tbody>\n",
       "</table>\n",
       "</div>"
      ],
      "text/plain": [
       "               DW       DVAR  Cluster No\n",
       "46825  126.437012  73.473999           0\n",
       "46826   75.580994  16.292999           0\n",
       "47011   30.070068   6.471008           0\n",
       "47013   27.630005 -17.173004           0\n",
       "49899   22.850098  18.209801           0"
      ]
     },
     "execution_count": 15,
     "metadata": {},
     "output_type": "execute_result"
    }
   ],
   "source": [
    "df.head()"
   ]
  },
  {
   "cell_type": "code",
   "execution_count": 16,
   "metadata": {},
   "outputs": [],
   "source": [
    "df.to_csv('./output.csv',columns=['DW','DVAR','Cluster No'],index=False)\n",
    "pickle.dump(km, open(\"save.pkl\", \"wb\"))"
   ]
  },
  {
   "cell_type": "code",
   "execution_count": 17,
   "metadata": {},
   "outputs": [
    {
     "data": {
      "text/plain": [
       "array([0, 0, 0, 0, 0, 0, 0, 0, 0, 0, 0, 0, 2, 3, 0, 2, 0, 0, 0, 0, 0, 0,\n",
       "       0, 0, 0, 2, 1, 0, 0, 0, 1, 0, 0, 0, 0, 0, 0, 0, 1, 0, 0, 0, 0, 0,\n",
       "       0, 0, 0, 0, 0, 0, 0, 0, 0, 0, 0, 0, 2, 0, 0, 0, 0, 0, 0, 0, 0, 0,\n",
       "       0, 0, 0, 1, 0, 0, 0, 2, 0, 0, 0, 0, 0, 0, 0, 0, 0, 0, 1, 0, 2, 0,\n",
       "       0, 0, 0, 0, 0, 0, 0, 0, 0, 0, 0, 0, 0, 0, 0, 0, 0, 0, 0, 0, 0, 0,\n",
       "       0, 0, 0, 0, 0, 0, 0, 0, 0, 0, 0, 0, 0, 0, 0, 2, 3, 2, 0, 0, 0, 0,\n",
       "       0, 0, 2, 3, 0, 0, 0, 0])"
      ]
     },
     "execution_count": 17,
     "metadata": {},
     "output_type": "execute_result"
    }
   ],
   "source": [
    "kmeans = pickle.load(open(\"save.pkl\", \"rb\"))\n",
    "kmeans.predict(X)"
   ]
  },
  {
   "cell_type": "code",
   "execution_count": null,
   "metadata": {},
   "outputs": [],
   "source": []
  }
 ],
 "metadata": {
  "kernelspec": {
   "display_name": "Python 3",
   "language": "python",
   "name": "python3"
  },
  "language_info": {
   "codemirror_mode": {
    "name": "ipython",
    "version": 3
   },
   "file_extension": ".py",
   "mimetype": "text/x-python",
   "name": "python",
   "nbconvert_exporter": "python",
   "pygments_lexer": "ipython3",
   "version": "3.6.5"
  }
 },
 "nbformat": 4,
 "nbformat_minor": 2
}
